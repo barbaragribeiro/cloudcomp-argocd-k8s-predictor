{
 "cells": [
  {
   "cell_type": "code",
   "execution_count": 22,
   "id": "c50a60a8",
   "metadata": {},
   "outputs": [],
   "source": [
    "import numpy as np\n",
    "import pandas as pd\n",
    "from sklearn.pipeline import Pipeline\n",
    "from sklearn.feature_extraction.text import CountVectorizer\n",
    "from sklearn.feature_extraction.text import TfidfTransformer\n",
    "from sklearn.naive_bayes import MultinomialNB\n",
    "# from sklearn import svm\n",
    "import pickle"
   ]
  },
  {
   "cell_type": "markdown",
   "id": "7752c949",
   "metadata": {},
   "source": [
    "### Load the dada"
   ]
  },
  {
   "cell_type": "code",
   "execution_count": null,
   "id": "d40dda0e",
   "metadata": {},
   "outputs": [],
   "source": [
    "df_path = '/home/cunha/covid19-sample/training.csv'\n",
    "df = pd.read_csv(df_path, sep=';')\n",
    "\n",
    "test_df_path = '/home/cunha/covid19-sample/test.csv'\n",
    "test_df = pd.read_csv(test_df_path, sep=';')"
   ]
  },
  {
   "cell_type": "code",
   "execution_count": null,
   "id": "30767b17",
   "metadata": {},
   "outputs": [],
   "source": [
    "df = df.dropna(subset=['country_code'])\n",
    "test_df = test_df.dropna(subset=['country_code'])"
   ]
  },
  {
   "cell_type": "markdown",
   "id": "a9a7687e",
   "metadata": {},
   "source": [
    "### Create a model"
   ]
  },
  {
   "cell_type": "code",
   "execution_count": null,
   "id": "c90736eb",
   "metadata": {},
   "outputs": [],
   "source": [
    "clf = Pipeline([\n",
    "     ('vect', CountVectorizer(stop_words='english')),\n",
    "     ('tfidf', TfidfTransformer()),\n",
    "     ('clf', MultinomialNB()),\n",
    "])\n",
    "\n",
    "x, y = df['text'], (df['country_code'] == 'US').astype(int)\n",
    "clf.fit(x, y)\n"
   ]
  },
  {
   "cell_type": "markdown",
   "id": "9dee259d",
   "metadata": {},
   "source": [
    "### Test"
   ]
  },
  {
   "cell_type": "code",
   "execution_count": null,
   "id": "cf038b62",
   "metadata": {},
   "outputs": [],
   "source": [
    "x_test, y_test = test_df['text'], (test_df['country_code'] == 'US').astype(int)\n",
    "predicted = clf.predict(x_test)"
   ]
  },
  {
   "cell_type": "code",
   "execution_count": null,
   "id": "0516fc1d",
   "metadata": {},
   "outputs": [],
   "source": [
    "acc = sum(predicted == y_test) / len(y_test) * 100\n",
    "print(f\"Accuracy: {acc:.3f}%\")"
   ]
  },
  {
   "cell_type": "markdown",
   "id": "bf2ca8c8",
   "metadata": {},
   "source": [
    "### Save the model"
   ]
  },
  {
   "cell_type": "code",
   "execution_count": null,
   "id": "214b5278",
   "metadata": {},
   "outputs": [],
   "source": [
    "model_path = './model.pickle'\n",
    "with open(model_path, 'wb') as f:\n",
    "    pickle.dump(clf, f)"
   ]
  },
  {
   "cell_type": "code",
   "execution_count": null,
   "id": "3dc47b56",
   "metadata": {},
   "outputs": [],
   "source": []
  }
 ],
 "metadata": {
  "kernelspec": {
   "display_name": "Python 3 (ipykernel)",
   "language": "python",
   "name": "python3"
  },
  "language_info": {
   "codemirror_mode": {
    "name": "ipython",
    "version": 3
   },
   "file_extension": ".py",
   "mimetype": "text/x-python",
   "name": "python",
   "nbconvert_exporter": "python",
   "pygments_lexer": "ipython3",
   "version": "3.8.10"
  }
 },
 "nbformat": 4,
 "nbformat_minor": 5
}
